{
 "cells": [
  {
   "cell_type": "code",
   "execution_count": 4,
   "metadata": {},
   "outputs": [],
   "source": [
    "import multiprocessing\n",
    "import dlib\n",
    "\n",
    "TRAIN_XML_PATH = 'ibug_300W_large_face_landmark_dataset/labels_ibug_300W_train_mouth.xml'\n",
    "MODEL_PATH = 'mouth_predictor.dat'"
   ]
  },
  {
   "cell_type": "code",
   "execution_count": 2,
   "metadata": {},
   "outputs": [
    {
     "name": "stdout",
     "output_type": "stream",
     "text": [
      "shape_predictor_training_options(be_verbose=1, cascade_depth=15, tree_depth=4, num_trees_per_cascade_level=500, nu=0.1, oversampling_amount=5, oversampling_translation_jitter=0.1, feature_pool_size=400, lambda_param=0.1, num_test_splits=50, feature_pool_region_padding=0, random_seed=, num_threads=12, landmark_relative_padding_mode=1)\n"
     ]
    }
   ],
   "source": [
    "options = dlib.shape_predictor_training_options()\n",
    "options.tree_depth = 4\n",
    "options.nu = 0.1\n",
    "options.cascade_depth = 15\n",
    "options.feature_pool_size = 400\n",
    "options.num_test_splits = 50\n",
    "options.oversampling_amount = 5\n",
    "options.oversampling_translation_jitter = 0.1\n",
    "options.be_verbose = True\n",
    "options.num_threads = multiprocessing.cpu_count()\n",
    "print(options)"
   ]
  },
  {
   "cell_type": "code",
   "execution_count": null,
   "metadata": {},
   "outputs": [],
   "source": [
    "\n",
    "\n",
    "dlib.train_shape_predictor(TRAIN_XML_PATH, MODEL_PATH, options)"
   ]
  },
  {
   "cell_type": "code",
   "execution_count": 5,
   "metadata": {},
   "outputs": [
    {
     "data": {
      "text/plain": [
       "11.036337093043144"
      ]
     },
     "execution_count": 5,
     "metadata": {},
     "output_type": "execute_result"
    }
   ],
   "source": [
    "TEST_XML_PATH = 'ibug_300W_large_face_landmark_dataset/labels_ibug_300W_test_mouth.xml'\n",
    "error = dlib.test_shape_predictor(TEST_XML_PATH, MODEL_PATH)\n",
    "error"
   ]
  },
  {
   "cell_type": "code",
   "execution_count": 1,
   "metadata": {},
   "outputs": [
    {
     "ename": "NameError",
     "evalue": "name 'dlib' is not defined",
     "output_type": "error",
     "traceback": [
      "\u001b[0;31m---------------------------------------------------------------------------\u001b[0m",
      "\u001b[0;31mNameError\u001b[0m                                 Traceback (most recent call last)",
      "\u001b[0;32m<ipython-input-1-e7eb57b85531>\u001b[0m in \u001b[0;36m<module>\u001b[0;34m\u001b[0m\n\u001b[0;32m----> 1\u001b[0;31m \u001b[0merror\u001b[0m \u001b[0;34m=\u001b[0m \u001b[0mdlib\u001b[0m\u001b[0;34m.\u001b[0m\u001b[0mtest_shape_predictor\u001b[0m\u001b[0;34m(\u001b[0m\u001b[0mTRAIN_XML_PATH\u001b[0m\u001b[0;34m,\u001b[0m \u001b[0mMODEL_PATH\u001b[0m\u001b[0;34m)\u001b[0m\u001b[0;34m\u001b[0m\u001b[0;34m\u001b[0m\u001b[0m\n\u001b[0m\u001b[1;32m      2\u001b[0m \u001b[0merror\u001b[0m\u001b[0;34m\u001b[0m\u001b[0;34m\u001b[0m\u001b[0m\n",
      "\u001b[0;31mNameError\u001b[0m: name 'dlib' is not defined"
     ]
    }
   ],
   "source": [
    "error = dlib.test_shape_predictor(TRAIN_XML_PATH, MODEL_PATH)\n",
    "error"
   ]
  },
  {
   "cell_type": "code",
   "execution_count": null,
   "metadata": {},
   "outputs": [],
   "source": [
    "import imutils\n",
    "from imutils import face_utils\n",
    "import cv2\n",
    "\n",
    "detector = dlib.get_frontal_face_detector()\n",
    "predictor = dlib.shape_predictor(MODEL_PATH)"
   ]
  },
  {
   "cell_type": "code",
   "execution_count": null,
   "metadata": {},
   "outputs": [],
   "source": [
    "import time\n",
    "def show_features(img, rect):\n",
    "    img = cv2.cvtColor(img, cv2.COLOR_BGR2RGB)\n",
    "    start = time.time()\n",
    "    shape = predictor(img, rect)\n",
    "    end = time.time()\n",
    "    print(end - start)\n",
    "    shape = face_utils.shape_to_np(shape)\n",
    "    \n",
    "    (x, y, w, h) = face_utils.rect_to_bb(rect)\n",
    "    cv2.rectangle(img, (x, y), (x+w, y+2), (0, 255, 0), 2)\n",
    "    \n",
    "    for (x, y) in shape:\n",
    "        cv2.circle(img, (x, y), 1, (0, 0, 255), -1)\n",
    "    return img\n",
    "\n",
    "image = cv2.imread('./lfpw/testset/image_0200.png')\n",
    "\n",
    "def prepare_image(img):\n",
    "    return img\n",
    "    img = imutils.resize(image, width=500)\n",
    "    return cv2.cvtColor(image, cv2.COLOR_BGR2GRAY)\n",
    "\n",
    "gray = prepare_image(image)\n",
    "face_rects = detector(gray, 1)"
   ]
  },
  {
   "cell_type": "code",
   "execution_count": null,
   "metadata": {},
   "outputs": [],
   "source": [
    "img = show_features(gray, face_rects[0])\n",
    "from matplotlib import pyplot as plt\n",
    "cv2.cvtColor\n",
    "plt.imshow(img)\n",
    "plt.title('Annotated Image')\n",
    "plt.show()"
   ]
  },
  {
   "cell_type": "code",
   "execution_count": null,
   "metadata": {},
   "outputs": [],
   "source": []
  },
  {
   "cell_type": "code",
   "execution_count": null,
   "metadata": {},
   "outputs": [],
   "source": []
  }
 ],
 "metadata": {
  "kernelspec": {
   "display_name": "conda_env",
   "language": "python",
   "name": "conda_env"
  },
  "language_info": {
   "codemirror_mode": {
    "name": "ipython",
    "version": 3
   },
   "file_extension": ".py",
   "mimetype": "text/x-python",
   "name": "python",
   "nbconvert_exporter": "python",
   "pygments_lexer": "ipython3",
   "version": "3.7.9"
  }
 },
 "nbformat": 4,
 "nbformat_minor": 4
}
