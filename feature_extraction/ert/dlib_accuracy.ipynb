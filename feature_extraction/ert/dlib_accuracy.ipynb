{
 "cells": [
  {
   "cell_type": "code",
   "execution_count": 5,
   "metadata": {},
   "outputs": [],
   "source": [
    "import multiprocessing\n",
    "import dlib\n",
    "import time\n",
    "\n",
    "TEST_MOUTH_XML_PATH = 'ibug_300W_large_face_landmark_dataset/labels_ibug_300W_test_mouth.xml'\n",
    "TEST_XML_PATH = 'ibug_300W_large_face_landmark_dataset/labels_ibug_300W_test.xml'\n",
    "MOUTH_MODEL_PATH = 'mouth_predictor.dat'\n",
    "FACE_MODEL_PATH = 'shape_predictor_68_face_landmarks.dat'"
   ]
  },
  {
   "cell_type": "code",
   "execution_count": 6,
   "metadata": {},
   "outputs": [
    {
     "name": "stdout",
     "output_type": "stream",
     "text": [
      "29.470167875289917\n"
     ]
    },
    {
     "data": {
      "text/plain": [
       "11.036337093043144"
      ]
     },
     "execution_count": 6,
     "metadata": {},
     "output_type": "execute_result"
    }
   ],
   "source": [
    "start = time.time()\n",
    "error = dlib.test_shape_predictor(TEST_MOUTH_XML_PATH, MOUTH_MODEL_PATH)\n",
    "end = time.time()\n",
    "print(end - start)\n",
    "error"
   ]
  },
  {
   "cell_type": "code",
   "execution_count": 4,
   "metadata": {},
   "outputs": [
    {
     "data": {
      "text/plain": [
       "6.3162351599740525"
      ]
     },
     "execution_count": 4,
     "metadata": {},
     "output_type": "execute_result"
    }
   ],
   "source": [
    "start = time.time()\n",
    "error = dlib.test_shape_predictor(TEST_XML_PATH, FACE_MODEL_PATH)\n",
    "end = time.time()\n",
    "print(end - start)\n",
    "error"
   ]
  },
  {
   "cell_type": "code",
   "execution_count": null,
   "metadata": {},
   "outputs": [],
   "source": []
  }
 ],
 "metadata": {
  "kernelspec": {
   "display_name": "conda_env",
   "language": "python",
   "name": "conda_env"
  },
  "language_info": {
   "codemirror_mode": {
    "name": "ipython",
    "version": 3
   },
   "file_extension": ".py",
   "mimetype": "text/x-python",
   "name": "python",
   "nbconvert_exporter": "python",
   "pygments_lexer": "ipython3",
   "version": "3.7.9"
  }
 },
 "nbformat": 4,
 "nbformat_minor": 4
}
